{
 "cells": [
  {
   "cell_type": "markdown",
   "metadata": {},
   "source": [
    "# 第一章 David的第一个程序 —— Hello World"
   ]
  },
  {
   "cell_type": "markdown",
   "metadata": {},
   "source": [
    "## 1. 简单的计算器 ##"
   ]
  },
  {
   "cell_type": "markdown",
   "metadata": {},
   "source": [
    "我们可以把Python当做一个简单的计算器。输入2+2，看看效果：\n",
    "> **提示**：你可以通过单击灰色的代码区域，然后使用键盘快捷键 **Shift+Enter** 或 **Shift+ Return** 来运行代码。或者在选择代码后使用**播放**（run cell）按钮执行代码。代码中由**“#”**开始的部分只起到注释说明的作用，Python不会执行。标记**“#TODO：”**的部分需要你来完成。"
   ]
  },
  {
   "cell_type": "code",
   "execution_count": 1,
   "metadata": {
    "collapsed": false
   },
   "outputs": [
    {
     "data": {
      "text/plain": [
       "4"
      ]
     },
     "execution_count": 1,
     "metadata": {},
     "output_type": "execute_result"
    }
   ],
   "source": [
    "2 + 2"
   ]
  },
  {
   "cell_type": "markdown",
   "metadata": {},
   "source": [
    "数字之间的“+”叫**做运算符（Operator）**：\n",
    "- **+** 表示加法\n",
    "- **-** 表示减法\n",
    "- ***** 表示乘法\n",
    "- **/** 表示除法"
   ]
  },
  {
   "cell_type": "markdown",
   "metadata": {},
   "source": [
    "再来算几个复杂的：<br>\n",
    "2+2+2+2+2<br>\n",
    "8*6<br>\n",
    "10-5+6<br>\n",
    "2+         2<br>"
   ]
  },
  {
   "cell_type": "code",
   "execution_count": null,
   "metadata": {
    "collapsed": false
   },
   "outputs": [],
   "source": [
    "#TODO: 输入2+2+2+2+2\n"
   ]
  },
  {
   "cell_type": "code",
   "execution_count": null,
   "metadata": {
    "collapsed": false
   },
   "outputs": [],
   "source": [
    "#TODO: 输入8*6\n"
   ]
  },
  {
   "cell_type": "code",
   "execution_count": null,
   "metadata": {
    "collapsed": false
   },
   "outputs": [],
   "source": [
    "#TODO: 输入10-5+6\n"
   ]
  },
  {
   "cell_type": "code",
   "execution_count": null,
   "metadata": {
    "collapsed": false
   },
   "outputs": [],
   "source": [
    "#TODO: 输入128/2\n"
   ]
  },
  {
   "cell_type": "code",
   "execution_count": null,
   "metadata": {
    "collapsed": false,
    "scrolled": true
   },
   "outputs": [],
   "source": [
    "#TODO: 输入2+   2\n"
   ]
  },
  {
   "cell_type": "markdown",
   "metadata": {},
   "source": [
    "这些就是Python中的**表达式（expression）**。在数字和运算符之间，你输入多少个空格都不会影响计算结果。<br>\n",
    "你或许已经注意到了，这里的数字都是**整数（Integer）**，其实也可以是其他类型的数字，例如：3.1415926。这些数字又叫做**值(Values)**<br>\n",
    "总结一下：整数是数字的一种，数字是值的一种。"
   ]
  },
  {
   "cell_type": "markdown",
   "metadata": {},
   "source": [
    "Python在计算大数时速度非常快，试着计算一组四位数乘法："
   ]
  },
  {
   "cell_type": "code",
   "execution_count": null,
   "metadata": {
    "collapsed": false
   },
   "outputs": [],
   "source": [
    "#TODO：输入2063 * 3581\n"
   ]
  },
  {
   "cell_type": "markdown",
   "metadata": {},
   "source": [
    "## 2. 表达式 ##"
   ]
  },
  {
   "cell_type": "markdown",
   "metadata": {},
   "source": [
    "上节课，刚刚提到了表达式，我们用运算符将数字连接起来。但如果在输入表达式的时候丢掉了什么呢？执行下面的代码。"
   ]
  },
  {
   "cell_type": "code",
   "execution_count": null,
   "metadata": {
    "collapsed": false
   },
   "outputs": [],
   "source": [
    "5+"
   ]
  },
  {
   "cell_type": "markdown",
   "metadata": {},
   "source": [
    "这里发生了一个错误（SyntaxError），意思是电脑不明白你的表达式是什么意思。实际上，我们知道运算符是用来将数字连在一起的，但“5+ ”还缺少了后面的值。"
   ]
  },
  {
   "cell_type": "markdown",
   "metadata": {},
   "source": [
    "## 3. 变量##"
   ]
  },
  {
   "cell_type": "markdown",
   "metadata": {},
   "source": [
    "我们希望将表达式的计算结果保存起来，而不是每次都输入一个很长的公式，**变量（Variable）**就是用来存储值的。使用**=**将表达式的结果保存在变量中。"
   ]
  },
  {
   "cell_type": "markdown",
   "metadata": {},
   "source": [
    "将数字15保存在number变量中："
   ]
  },
  {
   "cell_type": "code",
   "execution_count": null,
   "metadata": {
    "collapsed": true
   },
   "outputs": [],
   "source": [
    "number = 15"
   ]
  },
  {
   "cell_type": "markdown",
   "metadata": {},
   "source": [
    "但要注意的是，number中并不会保存表达式，只会保存表达式的计算结果。"
   ]
  },
  {
   "cell_type": "markdown",
   "metadata": {},
   "source": [
    "如果想知道一个变量中保存的内容，只需要输入这个变量的名字："
   ]
  },
  {
   "cell_type": "code",
   "execution_count": null,
   "metadata": {
    "collapsed": false
   },
   "outputs": [],
   "source": [
    "number"
   ]
  },
  {
   "cell_type": "markdown",
   "metadata": {},
   "source": [
    "我们还可以把变量当做以数字，放在表达式中计算："
   ]
  },
  {
   "cell_type": "code",
   "execution_count": null,
   "metadata": {
    "collapsed": false
   },
   "outputs": [],
   "source": [
    "number + 4"
   ]
  },
  {
   "cell_type": "markdown",
   "metadata": {},
   "source": [
    "还可以用新的内容覆盖掉原来的值："
   ]
  },
  {
   "cell_type": "code",
   "execution_count": null,
   "metadata": {
    "collapsed": false
   },
   "outputs": [],
   "source": [
    "number = 3\n",
    "number"
   ]
  },
  {
   "cell_type": "markdown",
   "metadata": {},
   "source": [
    "还有一种看起来很奇怪的表达式："
   ]
  },
  {
   "cell_type": "code",
   "execution_count": null,
   "metadata": {
    "collapsed": false
   },
   "outputs": [],
   "source": [
    "number = number + 1\n",
    "number"
   ]
  },
  {
   "cell_type": "markdown",
   "metadata": {},
   "source": [
    "这并不是一个数学公式，apples永远也不可能与applesr+1相等。这只是一个Python表达式，意思是把现在apples中的数字加上1，然后再保存到apples中，简单地说就是让apples中保存的数字加1。"
   ]
  },
  {
   "cell_type": "markdown",
   "metadata": {},
   "source": [
    "现在，我们再使用另外两个变量保存数字："
   ]
  },
  {
   "cell_type": "code",
   "execution_count": null,
   "metadata": {
    "collapsed": false
   },
   "outputs": [],
   "source": [
    "girls = 25\n",
    "boys = 32\n",
    "number = girls + boys\n",
    "number"
   ]
  },
  {
   "cell_type": "markdown",
   "metadata": {},
   "source": [
    "number中保存的数字变成了57，是有girls和boys中的数字相加得出的。"
   ]
  },
  {
   "cell_type": "markdown",
   "metadata": {},
   "source": [
    "## 4. 字符串##"
   ]
  },
  {
   "cell_type": "markdown",
   "metadata": {},
   "source": [
    "变量中除了可以保存数字，也可以保存**字符串（String）**。字符串要用单引号（“'”）括起来，例如："
   ]
  },
  {
   "cell_type": "code",
   "execution_count": null,
   "metadata": {
    "collapsed": false
   },
   "outputs": [],
   "source": [
    "string1 = 'Hello'\n",
    "string1"
   ]
  },
  {
   "cell_type": "markdown",
   "metadata": {},
   "source": [
    "字符串中可以使用空格和各种标点符号："
   ]
  },
  {
   "cell_type": "code",
   "execution_count": null,
   "metadata": {
    "collapsed": false
   },
   "outputs": [],
   "source": [
    "string1 = 'Hello'\n",
    "string2 = 'World'"
   ]
  },
  {
   "cell_type": "markdown",
   "metadata": {},
   "source": [
    "还可以用**“+”**把几个字符串连接起来："
   ]
  },
  {
   "cell_type": "code",
   "execution_count": null,
   "metadata": {
    "collapsed": false
   },
   "outputs": [],
   "source": [
    "string1 + string2"
   ]
  },
  {
   "cell_type": "markdown",
   "metadata": {},
   "source": [
    "我们从新在‘Hello’后面加一个空格"
   ]
  },
  {
   "cell_type": "code",
   "execution_count": null,
   "metadata": {
    "collapsed": false
   },
   "outputs": [],
   "source": [
    "string1 = 'Hello '\n",
    "string2 = 'World'\n",
    "string1 + string2"
   ]
  },
  {
   "cell_type": "markdown",
   "metadata": {},
   "source": [
    "或者："
   ]
  },
  {
   "cell_type": "code",
   "execution_count": null,
   "metadata": {
    "collapsed": false
   },
   "outputs": [],
   "source": [
    "string1 = 'Hello'\n",
    "string2 = 'World'\n",
    "string1 + ' ' + string2"
   ]
  },
  {
   "cell_type": "markdown",
   "metadata": {},
   "source": [
    "但是，**我们不能将不同的数据类型用运算符连在一起**，例如：将字符串和数字放在一起计算"
   ]
  },
  {
   "cell_type": "code",
   "execution_count": null,
   "metadata": {
    "collapsed": false
   },
   "outputs": [],
   "source": [
    "string1 + 5"
   ]
  },
  {
   "cell_type": "markdown",
   "metadata": {},
   "source": [
    "执行程序时会出现错误。我们可以将他们改为相同的类型：\n",
    "> **注意：**因为使用单引号，这里的'5'并不是数字，而是一个字符类型，因此可以与string1连接起来。"
   ]
  },
  {
   "cell_type": "code",
   "execution_count": null,
   "metadata": {
    "collapsed": false
   },
   "outputs": [],
   "source": [
    "string1 + '5'"
   ]
  },
  {
   "cell_type": "markdown",
   "metadata": {},
   "source": [
    "## 5. 第一个完整的程序##"
   ]
  },
  {
   "cell_type": "markdown",
   "metadata": {},
   "source": [
    "这是一个询问你名字，并向你打招呼的程序："
   ]
  },
  {
   "cell_type": "code",
   "execution_count": null,
   "metadata": {
    "collapsed": false
   },
   "outputs": [],
   "source": [
    "# 这里用到的print，是将变量的内容打印到电脑的屏幕上\n",
    "print 'Hello World!'\n",
    "print '你叫什么名字？'\n",
    "# row_input()是读取你键盘输入的一行文字的内容，并保存在myName变量中\n",
    "myName = raw_input()\n",
    "print '很高兴认识你，' + myName"
   ]
  },
  {
   "cell_type": "markdown",
   "metadata": {},
   "source": [
    "再看一个例子："
   ]
  },
  {
   "cell_type": "code",
   "execution_count": null,
   "metadata": {
    "collapsed": false
   },
   "outputs": [],
   "source": [
    "print 'What is your favorite animal?'\n",
    "animal = raw_input()\n",
    "print 'What is your favorite color'\n",
    "color = raw_input()\n",
    "print myName + ' is a ' + color + ' ' + animal"
   ]
  },
  {
   "cell_type": "markdown",
   "metadata": {},
   "source": [
    "## 6. 小结##"
   ]
  },
  {
   "cell_type": "markdown",
   "metadata": {},
   "source": [
    "在这一节课里，我们一起学到了：\n",
    "- Python可以当做一个计算器，只要你输入一个计算题目，就能很快得到结果。\n",
    "- 这种计算是通过表达式，用运算符号（+ - * /）连接数字。\n",
    "- 在计算中，为了方便，我们可以用变量保存一个表达式的计算结果，这样不需要每次都输入很长的表达式；并且，可以把变量当做数字，放进表达式中计算。\n",
    "- 除了数字，还有一种字符串的类型，通常用来表示文字，它也可以保存在变量中。可以用“+”将多个字符串连接起来。\n",
    "- 使用print可以在屏幕上显示内容，使用raw_input()可以从键盘的输入中读取内容。"
   ]
  }
 ],
 "metadata": {
  "anaconda-cloud": {},
  "kernelspec": {
   "display_name": "base",
   "language": "python",
   "name": "python3"
  },
  "language_info": {
   "codemirror_mode": {
    "name": "ipython",
    "version": 3
   },
   "file_extension": ".py",
   "mimetype": "text/x-python",
   "name": "python",
   "nbconvert_exporter": "python",
   "pygments_lexer": "ipython3",
   "version": "3.10.9"
  }
 },
 "nbformat": 4,
 "nbformat_minor": 1
}
