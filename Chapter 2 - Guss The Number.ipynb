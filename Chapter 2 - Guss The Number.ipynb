{
 "cells": [
  {
   "cell_type": "markdown",
   "metadata": {},
   "source": [
    "# 第二章 猜数字游戏"
   ]
  },
  {
   "cell_type": "markdown",
   "metadata": {},
   "source": [
    "**提示:**<br>\n",
    "- 所有以**In []**开头的段落都需要按【Shift+Enter】执行<br>\n",
    "- 所有以**#TODO：**开头的代码部分，都需要你来把它补充完整并执行"
   ]
  },
  {
   "cell_type": "markdown",
   "metadata": {},
   "source": [
    "## 1. 游戏规则"
   ]
  },
  {
   "cell_type": "markdown",
   "metadata": {},
   "source": [
    "先来看看猜数字游戏该怎么玩：\n",
    "> 电脑：Hello! 你叫什么名字?<br>\n",
    "**玩家：David**<br>\n",
    "电脑：好的, David, 我想好了一个1-20之间的整数。<br>\n",
    "电脑：猜猜看，它是多少<br>\n",
    "**玩家：10**<br>\n",
    "电脑：你猜的数大了<br>\n",
    "电脑：继续猜猜看<br>\n",
    "**玩家：2**<br>\n",
    "电脑：你猜的小了<br>\n",
    "电脑：继续猜猜看<br>\n",
    "**玩家：2**<br>\n",
    "电脑：太棒了，David！你用3次就猜中了！"
   ]
  },
  {
   "cell_type": "markdown",
   "metadata": {},
   "source": [
    "## 2. 向玩家打招呼"
   ]
  },
  {
   "cell_type": "markdown",
   "metadata": {},
   "source": [
    "使用上一章学习的内容，询问玩家的名字，并且向他打个招呼。\n",
    "> 电脑：Hello! 你叫什么名字?<br>\n",
    "> **玩家：David**<br>\n",
    "> 电脑：好的, David, 我想好了一个1-20之间的整数。<br>\n",
    "> 电脑：猜猜看，它是多少<br>"
   ]
  },
  {
   "cell_type": "markdown",
   "metadata": {},
   "source": [
    "**提示：**<br>\n",
    "* 使用print语句在屏幕上显示“Hi，你叫什么名字？”,例如：print 'Hi，你叫什么名字'<br>\n",
    "* 使用raw_input()将玩家输入的名字保存到变量myName中，例如：myName = raw_input()<br>\n",
    "* 使用“+”将玩家的名字与你要对他说的话连接起来，例如 print '好吧, '+ myName + ', 我已经想好了一个1-20之间的整数。'"
   ]
  },
  {
   "cell_type": "code",
   "execution_count": null,
   "metadata": {
    "collapsed": true
   },
   "outputs": [],
   "source": [
    "#模仿游戏规则中的前四句对话，编写与玩家的对话：\n",
    "print 'Hi，你叫什么名字？'\n",
    "\n",
    "#TODO: 使用raw_input()将玩家输入的名字保存到变量myName中\n",
    "myName =  \n",
    "\n",
    "#TODO: 在屏幕上对玩家（称呼他的名字）说：“好的，玩家<名称>，我想好了一个1-20之间的整数”，\n",
    "print "
   ]
  },
  {
   "cell_type": "markdown",
   "metadata": {},
   "source": [
    "## 3. 随机产生一个数字"
   ]
  },
  {
   "cell_type": "markdown",
   "metadata": {},
   "source": [
    "为了增加游戏的趣味性，让玩家每次玩游戏的时候，所需要猜的数字都是不一样的，我们需要随机产生一个1-20之间的整数。"
   ]
  },
  {
   "cell_type": "markdown",
   "metadata": {},
   "source": [
    "软件工程师已经把这个随机产生数字的方法做成了**程序包（Package）**，名字叫做random。\n",
    "> **提示：**<br>\n",
    "* 我们只需要使用import random即可将random包导入到程序中就可以调用了。<br>\n",
    "* random包中包含了许多关于随机的数学方法，其中randint方法可以产生一个随机整数，通过random.randint(1, 20)调用这个方法。"
   ]
  },
  {
   "cell_type": "markdown",
   "metadata": {},
   "source": [
    "我们可以多执行几次随机整数的生成："
   ]
  },
  {
   "cell_type": "code",
   "execution_count": null,
   "metadata": {
    "collapsed": false
   },
   "outputs": [],
   "source": [
    "#TODO: 使用import导入random包，请参考上面的提示\n",
    "import ...\n",
    "random.randint(1, 20)"
   ]
  },
  {
   "cell_type": "code",
   "execution_count": null,
   "metadata": {
    "collapsed": false
   },
   "outputs": [],
   "source": [
    "random.randint(1, 20)"
   ]
  },
  {
   "cell_type": "code",
   "execution_count": null,
   "metadata": {
    "collapsed": false
   },
   "outputs": [],
   "source": [
    "random.randint(1, 20)"
   ]
  },
  {
   "cell_type": "code",
   "execution_count": null,
   "metadata": {
    "collapsed": false
   },
   "outputs": [],
   "source": [
    "random.randint(1, 20)"
   ]
  },
  {
   "cell_type": "code",
   "execution_count": null,
   "metadata": {
    "collapsed": false
   },
   "outputs": [],
   "source": [
    "random.randint(1, 20)"
   ]
  },
  {
   "cell_type": "markdown",
   "metadata": {},
   "source": [
    "看起来，random.randint的确是在1到20之间随机产生整数，你也可以反复执行这段代码。random是我们通过import引入的包的名称，后边使用“.randint”是为了调用random包中的randint方法，括号中的1和20是randint方法的两个**参数（Argument）**，通过这两个参数告诉randint要在1到20之间这个范围产生整数。"
   ]
  },
  {
   "cell_type": "markdown",
   "metadata": {},
   "source": [
    "接下来，我们将这个随机数保存到变量number中，以备之后与玩家猜的数字作比较："
   ]
  },
  {
   "cell_type": "code",
   "execution_count": null,
   "metadata": {
    "collapsed": true
   },
   "outputs": [],
   "source": [
    "#TODO: 随机产生一个1-20之间的整数，并把它存放在number变量中。\n",
    "number = "
   ]
  },
  {
   "cell_type": "markdown",
   "metadata": {},
   "source": [
    "## 4. 玩家猜对了吗"
   ]
  },
  {
   "cell_type": "markdown",
   "metadata": {},
   "source": [
    "首先通过键盘输入得到玩家猜的数字。\n",
    "> **提示：**通过raw_input()获取到玩家输入的信息，但是这个信息是字符串（string），我们需要将其转化为整数（Integer）"
   ]
  },
  {
   "cell_type": "code",
   "execution_count": null,
   "metadata": {
    "collapsed": true
   },
   "outputs": [],
   "source": [
    "print '猜猜看，它是多少？'\n",
    "#TODO: 将玩家输入的数字保存到变量guess中\n",
    "guess = \n",
    "#将玩家输入的信息转换为整数\n",
    "guess = int(guess)"
   ]
  },
  {
   "cell_type": "markdown",
   "metadata": {},
   "source": [
    "接下来，需要判断玩家输入的数字（保存在变量guess中）是否等于我们之前随机生成的数字（保存在变量number中）：\n",
    "- 如果guess等于number，那么在屏幕上显示“太棒了，<玩家名称>，你猜对了！”\n",
    "- 如果guess大于number，那么在屏幕上显示“你猜的数字打了”\n",
    "- 如果guess小于number，那么在屏幕上显示“你猜的数字小了”"
   ]
  },
  {
   "cell_type": "markdown",
   "metadata": {},
   "source": [
    "在此，我们介绍一种**条件判断语句——if语句**。if语句的格式是：   "
   ]
  },
  {
   "cell_type": "code",
   "execution_count": null,
   "metadata": {
    "collapsed": true
   },
   "outputs": [],
   "source": [
    "if 判断条件:\n",
    "    ..."
   ]
  },
  {
   "cell_type": "markdown",
   "metadata": {},
   "source": [
    "**注意：**\n",
    "> 判断条件的后面有一个“:”，这个冒号是必须的。<br>\n",
    "如果判断条件成立，那么就会执行if下面的代码，但要注意，if的下一行必须用【Tab键】将这一行的代码缩进到if右边。"
   ]
  },
  {
   "cell_type": "markdown",
   "metadata": {},
   "source": [
    "判断两个变量的大小关系，可以使用以下符号：\n",
    "- 相等：**==**（两个等号）\n",
    "- 不相等：**!=**\n",
    "- 大于：**>**\n",
    "- 大于等于：**>=**\n",
    "- 小于：**<**\n",
    "- 小于等于：**<=**"
   ]
  },
  {
   "cell_type": "markdown",
   "metadata": {},
   "source": [
    "以此执行以下的条件判断："
   ]
  },
  {
   "cell_type": "code",
   "execution_count": null,
   "metadata": {
    "collapsed": false
   },
   "outputs": [],
   "source": [
    "0 > 6"
   ]
  },
  {
   "cell_type": "code",
   "execution_count": null,
   "metadata": {
    "collapsed": true
   },
   "outputs": [],
   "source": [
    "6 > 0"
   ]
  },
  {
   "cell_type": "code",
   "execution_count": null,
   "metadata": {
    "collapsed": true
   },
   "outputs": [],
   "source": [
    "10 > 10"
   ]
  },
  {
   "cell_type": "code",
   "execution_count": null,
   "metadata": {
    "collapsed": true
   },
   "outputs": [],
   "source": [
    "10 == 10"
   ]
  },
  {
   "cell_type": "code",
   "execution_count": null,
   "metadata": {
    "collapsed": true
   },
   "outputs": [],
   "source": [
    "10 == 11"
   ]
  },
  {
   "cell_type": "code",
   "execution_count": null,
   "metadata": {
    "collapsed": true
   },
   "outputs": [],
   "source": [
    "11 == 10"
   ]
  },
  {
   "cell_type": "code",
   "execution_count": null,
   "metadata": {
    "collapsed": true
   },
   "outputs": [],
   "source": [
    "10 != 10"
   ]
  },
  {
   "cell_type": "code",
   "execution_count": null,
   "metadata": {
    "collapsed": true
   },
   "outputs": [],
   "source": [
    "10 != 11"
   ]
  },
  {
   "cell_type": "code",
   "execution_count": null,
   "metadata": {
    "collapsed": true
   },
   "outputs": [],
   "source": [
    "'Hello' == 'Hello'"
   ]
  },
  {
   "cell_type": "code",
   "execution_count": null,
   "metadata": {
    "collapsed": true
   },
   "outputs": [],
   "source": [
    "'Hello' == 'Good bye'"
   ]
  },
  {
   "cell_type": "code",
   "execution_count": null,
   "metadata": {
    "collapsed": true
   },
   "outputs": [],
   "source": [
    "'Hello' == 'HELLO'"
   ]
  },
  {
   "cell_type": "code",
   "execution_count": null,
   "metadata": {
    "collapsed": true
   },
   "outputs": [],
   "source": [
    "'Good bye' != 'Hello'"
   ]
  },
  {
   "cell_type": "markdown",
   "metadata": {},
   "source": [
    "到这里，你应该大致了解了条件判断的用法，现在我们回到游戏代码，结合if语句判断玩家的猜测是否正确："
   ]
  },
  {
   "cell_type": "code",
   "execution_count": null,
   "metadata": {
    "collapsed": false
   },
   "outputs": [],
   "source": [
    "#如果guess等于number，那么在屏幕上显示“太棒了，<玩家名称>，你猜对了！”\n",
    "#判断两个数是否相等，并不用“=”（等号的作用是将右侧表达式的计算结果保存到等号左边），而是使用“==”（两个等号连在一起）\n",
    "if guess == number:\n",
    "    print '太棒了，'+ myName+ '，你猜对了！'\n",
    "\n",
    "#TODO: 如果guess小于number，那么在屏幕上显示“你猜的数字小了”\n",
    "if guess < number:\n",
    "    ...\n",
    "#TODO: 如果guess等于number，那么在屏幕上显示“太棒了，<玩家名称>，你猜对了！”\n",
    "if ...:\n",
    "    ..."
   ]
  },
  {
   "cell_type": "markdown",
   "metadata": {},
   "source": [
    "补充完整并执行上面这一段代码，我们就能判断出玩家是否猜对了数字。但是，聪明的你或许已经发现，我们只能猜一次，这会令玩家丧失很多游戏的乐趣。我们真正需要的是，可以不停的猜数，知道猜对为止，看谁可以用最少的次数猜中答案。"
   ]
  },
  {
   "cell_type": "markdown",
   "metadata": {},
   "source": [
    "## 5. 不停的猜，直到正确"
   ]
  },
  {
   "cell_type": "markdown",
   "metadata": {},
   "source": [
    "为了能够让程序不断地重复上面的猜数和判断的过程，我们要学习一种新的语句——**循环语句（While）**。While循环语句的格式是："
   ]
  },
  {
   "cell_type": "code",
   "execution_count": null,
   "metadata": {
    "collapsed": true
   },
   "outputs": [],
   "source": [
    "while 循环条件:\n",
    "    ..."
   ]
  },
  {
   "cell_type": "markdown",
   "metadata": {},
   "source": [
    "**注意：**\n",
    "> 循环条件的后面有一个“:”，这个冒号是必须的。<br>\n",
    "如果循环条件成立，那么就会执行while下面的代码，但要注意，需要在while中循环的代码必须用【Tab键】将这一行的代码缩进到while右边。"
   ]
  },
  {
   "cell_type": "code",
   "execution_count": null,
   "metadata": {
    "collapsed": false
   },
   "outputs": [],
   "source": [
    "#猜测次数计数器清零\n",
    "guessCount = 0\n",
    "#当猜测的次数（guessCount）小于10的情况下，执行while循环代码\n",
    "while guessCount < 10:\n",
    "    guessCount = guessCount + 1\n",
    "    print '第'+ str(guessCount) + '次猜数！'\n",
    "#end while\n",
    "\n",
    "print '退出了循环'"
   ]
  },
  {
   "cell_type": "markdown",
   "metadata": {},
   "source": [
    "**注意：**<br>\n",
    ">- guessCount的作用相当于一个计数器，每循环一次都会加1，但千万不要忘记，在循环之前，将guessCount清零<br>\n",
    "- 上面代码中的第三个print并不会被循环执行，只有在while循环停止后才会执行，因为这一行代码没有使用【Tab】缩进到while右边<br>\n",
    "- 为了更清晰的分辨循环部分的代码，我们通常还在循环内容结束后，加上一行注释代码**#end while**"
   ]
  },
  {
   "cell_type": "markdown",
   "metadata": {},
   "source": [
    "让我们用新学到的知识改造一下程序："
   ]
  },
  {
   "cell_type": "code",
   "execution_count": null,
   "metadata": {
    "collapsed": true
   },
   "outputs": [],
   "source": [
    "#猜测次数计数器清零\n",
    "guessCount = 0\n",
    "\n",
    "#TODO: 当猜测的次数（guessCount）小于10的情况下，执行while循环代码\n",
    "while ...:\n",
    "    #猜测次数计数器加1\n",
    "    guessCount = guessCount + 1\n",
    "    print '第'+ str(guessCount) + '次猜数！'\n",
    "    \n",
    "    #TODO: 将玩家输入的猜测结果保存到guess变量中\n",
    "    guess = \n",
    "    \n",
    "    #将玩家输入的字符串转换为整数\n",
    "    guess = int(guess)\n",
    "    \n",
    "    #如果guess等于number，那么在屏幕上显示“太棒了，<玩家名称>，你猜对了！”\n",
    "    if guess == number:\n",
    "        print '太棒了，'+ myName+ '，你在第' + guessCount + '次就猜对了！'\n",
    "        #猜对了的情况下，就直接退出while循环\n",
    "        break\n",
    "    #TODO: 如果guess小于number，那么在屏幕上显示“你猜的数字小了”\n",
    "    \n",
    "    #TODO: 如果guess等于number，那么在屏幕上显示“太棒了，<玩家名称>，你猜对了！”\n",
    "    \n",
    "#end while\n",
    "\n",
    "print '游戏结束！'"
   ]
  },
  {
   "cell_type": "markdown",
   "metadata": {},
   "source": [
    "实际上，我们只是将刚才学到的内容拼凑起来。在第一个if语句中，出现了break，break的作用是强制退出while循环。在上面这段代码中，当玩家猜对的情况下，不需要继续循环猜测过程，而直接退出并结束游戏。"
   ]
  },
  {
   "cell_type": "markdown",
   "metadata": {},
   "source": [
    "## 6. 完整的游戏代码"
   ]
  },
  {
   "cell_type": "markdown",
   "metadata": {},
   "source": [
    "最后，我们按照上面的步骤，把猜数字游戏的完整代码写在一起："
   ]
  },
  {
   "cell_type": "code",
   "execution_count": null,
   "metadata": {
    "collapsed": true
   },
   "outputs": [],
   "source": [
    "#TODO: 导入random包\n",
    "\n",
    "\n",
    "#TODO: 模仿游戏规则中的前四句对话，编写与玩家的对话：\n",
    "\n",
    "\n",
    "#TODO: 使用raw_input()将玩家输入的名字保存到变量myName中\n",
    "myName = \n",
    "\n",
    "#TODO: 在屏幕上对玩家（称呼他的名字）说：“好的，玩家<名称>，我想好了一个1-20之间的整数”，\n",
    "\n",
    "\n",
    "#TODO: 随机产生一个1-20之间的整数，并把它存放在number变量中。\n",
    "number = \n",
    "\n",
    "#猜测次数计数器清零\n",
    "guessCount = 0\n",
    "\n",
    "#TODO: 当猜测的次数（guessCount）小于10的情况下，执行while循环代码\n",
    "while ...:\n",
    "    #TODO: 猜测次数计数器加1\n",
    "    \n",
    "    print '第'+ str(guessCount) + '次猜数！'\n",
    "    \n",
    "    #TODO: 将玩家输入的猜测结果保存到guess变量中\n",
    "    guess = \n",
    "    \n",
    "    #将玩家输入的字符串转换为整数\n",
    "    guess = int(guess)\n",
    "    \n",
    "    #如果guess等于number，那么在屏幕上显示“太棒了，<玩家名称>，你猜对了！”\n",
    "    if guess == number:\n",
    "        print '太棒了，'+ myName+ '，你在第' + guessCount + '次就猜对了！'\n",
    "        #猜对了的情况下，就直接退出while循环\n",
    "        break\n",
    "    #TODO: 如果guess小于number，那么在屏幕上显示“你猜的数字小了”\n",
    "    \n",
    "    #TODO: 如果guess等于number，那么在屏幕上显示“太棒了，<玩家名称>，你猜对了！”\n",
    "    \n",
    "#end while\n",
    "\n",
    "print '游戏结束！'"
   ]
  },
  {
   "cell_type": "markdown",
   "metadata": {},
   "source": [
    "## 思考题："
   ]
  },
  {
   "cell_type": "markdown",
   "metadata": {},
   "source": [
    "1.请你想一想，如果你是游戏的玩家，怎么才能用最少的次数猜出答案？"
   ]
  },
  {
   "cell_type": "markdown",
   "metadata": {},
   "source": [
    "在这里写下你的答案：\n"
   ]
  },
  {
   "cell_type": "markdown",
   "metadata": {},
   "source": [
    "2.你能想出什么可以增加游戏趣味性的改进方案吗？"
   ]
  },
  {
   "cell_type": "markdown",
   "metadata": {},
   "source": [
    "在这里写下你的答案：\n"
   ]
  }
 ],
 "metadata": {
  "anaconda-cloud": {},
  "kernelspec": {
   "display_name": "Python [default]",
   "language": "python",
   "name": "python2"
  },
  "language_info": {
   "codemirror_mode": {
    "name": "ipython",
    "version": 2
   },
   "file_extension": ".py",
   "mimetype": "text/x-python",
   "name": "python",
   "nbconvert_exporter": "python",
   "pygments_lexer": "ipython2",
   "version": "2.7.12"
  }
 },
 "nbformat": 4,
 "nbformat_minor": 1
}
